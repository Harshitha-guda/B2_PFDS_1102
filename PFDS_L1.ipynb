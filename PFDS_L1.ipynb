{
  "nbformat": 4,
  "nbformat_minor": 0,
  "metadata": {
    "colab": {
      "provenance": [],
      "authorship_tag": "ABX9TyNmMv1DsnBO8tfR7TxSkNGH",
      "include_colab_link": true
    },
    "kernelspec": {
      "name": "python3",
      "display_name": "Python 3"
    },
    "language_info": {
      "name": "python"
    }
  },
  "cells": [
    {
      "cell_type": "markdown",
      "metadata": {
        "id": "view-in-github",
        "colab_type": "text"
      },
      "source": [
        "<a href=\"https://colab.research.google.com/github/Harshitha-guda/B2_PFDS_1102/blob/main/PFDS_L1.ipynb\" target=\"_parent\"><img src=\"https://colab.research.google.com/assets/colab-badge.svg\" alt=\"Open In Colab\"/></a>"
      ]
    },
    {
      "cell_type": "code",
      "source": [
        "def fact(n, depth=0):\n",
        "    indent = \"  \" * depth\n",
        "    print(f\"{indent}Calling fact({n})\")\n",
        "\n",
        "    if n == 0 or n == 1:\n",
        "        print(f\"{indent}Base case reached: fact({n}) = 1\")\n",
        "        return 1\n",
        "    else:\n",
        "        result = n * fact(n - 1, depth + 1)\n",
        "        print(f\"{indent}Returning: {n} * fact({n-1}) = {result}\")\n",
        "        return result\n",
        "\n",
        "n = int(input(\"Enter a number (≤ 10): \"))\n",
        "if 0 <= n <= 10:\n",
        "    print(\"\\nTracing recursive calls:\\n\")\n",
        "    result = fact(n)\n",
        "    print(f\"\\nFinal Result: fact({n}) = {result}\")\n",
        "else:\n",
        "    print(\"Please enter a number less than or equal to 10.\")\n"
      ],
      "metadata": {
        "colab": {
          "base_uri": "https://localhost:8080/"
        },
        "id": "6GLtgjZoBqyH",
        "outputId": "dfcfe5bb-8972-432c-ea2e-27d1aee3a507"
      },
      "execution_count": 5,
      "outputs": [
        {
          "output_type": "stream",
          "name": "stdout",
          "text": [
            "Enter a number (≤ 10): 3\n",
            "\n",
            "Tracing recursive calls:\n",
            "\n",
            "Calling fact(3)\n",
            "  Calling fact(2)\n",
            "    Calling fact(1)\n",
            "    Base case reached: fact(1) = 1\n",
            "  Returning: 2 * fact(1) = 2\n",
            "Returning: 3 * fact(2) = 6\n",
            "\n",
            "Final Result: fact(3) = 6\n"
          ]
        }
      ]
    }
  ]
}