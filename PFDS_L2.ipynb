{
  "nbformat": 4,
  "nbformat_minor": 0,
  "metadata": {
    "colab": {
      "provenance": [],
      "authorship_tag": "ABX9TyOAHG3FByhC02eQE9DWAyt4",
      "include_colab_link": true
    },
    "kernelspec": {
      "name": "python3",
      "display_name": "Python 3"
    },
    "language_info": {
      "name": "python"
    }
  },
  "cells": [
    {
      "cell_type": "markdown",
      "metadata": {
        "id": "view-in-github",
        "colab_type": "text"
      },
      "source": [
        "<a href=\"https://colab.research.google.com/github/Harshitha-guda/B2_PFDS_1102/blob/main/PFDS_L2.ipynb\" target=\"_parent\"><img src=\"https://colab.research.google.com/assets/colab-badge.svg\" alt=\"Open In Colab\"/></a>"
      ]
    },
    {
      "cell_type": "code",
      "execution_count": 1,
      "metadata": {
        "id": "wO2-peHzEK-Y"
      },
      "outputs": [],
      "source": [
        "import numpy as np\n"
      ]
    },
    {
      "cell_type": "markdown",
      "source": [
        "Create a 2D NumPy array for student marks in 3 subjects"
      ],
      "metadata": {
        "id": "ba-yjyt-NE3_"
      }
    },
    {
      "cell_type": "code",
      "source": [
        "arr=np.array([[98,99,97],[89,87,94],[79,89,86]])\n",
        "print(arr)\n",
        "\n"
      ],
      "metadata": {
        "colab": {
          "base_uri": "https://localhost:8080/"
        },
        "id": "K3VVLiy0Ed_n",
        "outputId": "593772a9-ba9a-4a21-9cef-859fc1051ca5"
      },
      "execution_count": 26,
      "outputs": [
        {
          "output_type": "stream",
          "name": "stdout",
          "text": [
            "[[98 99 97]\n",
            " [89 87 94]\n",
            " [79 89 86]]\n"
          ]
        }
      ]
    },
    {
      "cell_type": "code",
      "source": [
        "for i in range(0,3):\n",
        "  print(arr[i])"
      ],
      "metadata": {
        "colab": {
          "base_uri": "https://localhost:8080/"
        },
        "id": "Q2zpQHS2FhIC",
        "outputId": "cc3f9b71-ef61-4183-924e-a2201e25baf6"
      },
      "execution_count": 6,
      "outputs": [
        {
          "output_type": "stream",
          "name": "stdout",
          "text": [
            "[98 99 97]\n",
            "[89 87 94]\n",
            "[79 89 86]\n"
          ]
        }
      ]
    },
    {
      "cell_type": "markdown",
      "source": [
        " Calculate average, minimum, and maximum marks"
      ],
      "metadata": {
        "id": "6dZUy5hAX5GU"
      }
    },
    {
      "cell_type": "code",
      "source": [
        "#Among all students\n",
        "total_avg=np.mean(arr)\n",
        "print(total_avg)\n",
        "maxi=np.max(arr)\n",
        "print(maxi)\n",
        "mini=np.min(arr)\n",
        "print(mini)"
      ],
      "metadata": {
        "colab": {
          "base_uri": "https://localhost:8080/"
        },
        "id": "MHMhu4i8HNhw",
        "outputId": "473831b2-6e48-480c-b99a-9c77531c6f68"
      },
      "execution_count": 12,
      "outputs": [
        {
          "output_type": "stream",
          "name": "stdout",
          "text": [
            "90.88888888888889\n",
            "99\n",
            "79\n"
          ]
        }
      ]
    },
    {
      "cell_type": "code",
      "source": [
        "#for each student\n",
        "average_per_student = np.mean(arr, axis=1)\n",
        "min_per_student = np.min(arr, axis=1)\n",
        "max_per_student = np.max(arr, axis=1)\n",
        "for i in range(len(arr)):\n",
        "    print(f\"Student {i+1}: Marks = {arr[i]}, Avg = {average_per_student[i]:.2f}, Min = {min_per_student[i]}, Max = {max_per_student[i]}\")"
      ],
      "metadata": {
        "colab": {
          "base_uri": "https://localhost:8080/"
        },
        "id": "-2re2P0zF9w-",
        "outputId": "3c78f5f7-c7a1-4864-eff1-d5c41ed9afa0"
      },
      "execution_count": 14,
      "outputs": [
        {
          "output_type": "stream",
          "name": "stdout",
          "text": [
            "Student 1: Marks = [98 99 97], Avg = 98.00, Min = 97, Max = 99\n",
            "Student 2: Marks = [89 87 94], Avg = 90.00, Min = 87, Max = 94\n",
            "Student 3: Marks = [79 89 86], Avg = 84.67, Min = 79, Max = 89\n"
          ]
        }
      ]
    },
    {
      "cell_type": "markdown",
      "source": [
        "Use slicing to retrieve marks of specific students"
      ],
      "metadata": {
        "id": "qm8V1xKjYC6f"
      }
    },
    {
      "cell_type": "code",
      "source": [
        "print(\"\\nMarks of Student 2:\\n\", arr[1:2])"
      ],
      "metadata": {
        "colab": {
          "base_uri": "https://localhost:8080/"
        },
        "id": "pl3WBTJaGbsB",
        "outputId": "b1f4190f-2f80-41d3-a9bc-9d3c2ce67b2a"
      },
      "execution_count": 19,
      "outputs": [
        {
          "output_type": "stream",
          "name": "stdout",
          "text": [
            "\n",
            "Marks of Student 2:\n",
            " [[89 87 94]]\n"
          ]
        }
      ]
    },
    {
      "cell_type": "markdown",
      "source": [
        "Use boolean indexing to find students scoring above 80"
      ],
      "metadata": {
        "id": "SFS4-R5DYKeH"
      }
    },
    {
      "cell_type": "code",
      "source": [
        "above_80 = arr > 80\n",
        "print(\"\\n Boolean Array (Scores > 80):\\n\", above_80)"
      ],
      "metadata": {
        "colab": {
          "base_uri": "https://localhost:8080/"
        },
        "id": "r1ggEMJ4Kj40",
        "outputId": "f1a113cd-931b-45f8-80d5-ba2c84b22198"
      },
      "execution_count": 24,
      "outputs": [
        {
          "output_type": "stream",
          "name": "stdout",
          "text": [
            "\n",
            " Boolean Array (Scores > 80):\n",
            " [[ True  True  True]\n",
            " [ True  True  True]\n",
            " [False  True  True]]\n"
          ]
        }
      ]
    },
    {
      "cell_type": "markdown",
      "source": [
        "Reshape the array to observe subject-wise performance"
      ],
      "metadata": {
        "id": "OfmLzzHqYQvs"
      }
    },
    {
      "cell_type": "code",
      "source": [
        "subject_wise = arr.T\n",
        "print(\"\\n Subject-wise Performance (Rows = Subjects):\\n\", subject_wise)"
      ],
      "metadata": {
        "colab": {
          "base_uri": "https://localhost:8080/"
        },
        "id": "xle1-0puLDpc",
        "outputId": "72e4cdb1-516d-46eb-d156-d57578741573"
      },
      "execution_count": 25,
      "outputs": [
        {
          "output_type": "stream",
          "name": "stdout",
          "text": [
            "\n",
            " Subject-wise Performance (Rows = Subjects):\n",
            " [[98 89 79]\n",
            " [99 87 89]\n",
            " [97 94 86]]\n"
          ]
        }
      ]
    }
  ]
}