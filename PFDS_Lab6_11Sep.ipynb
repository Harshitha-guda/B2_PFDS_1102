{
  "nbformat": 4,
  "nbformat_minor": 0,
  "metadata": {
    "colab": {
      "provenance": [],
      "authorship_tag": "ABX9TyMV+OcLxfoxrFx9YjrQEy/s",
      "include_colab_link": true
    },
    "kernelspec": {
      "name": "python3",
      "display_name": "Python 3"
    },
    "language_info": {
      "name": "python"
    }
  },
  "cells": [
    {
      "cell_type": "markdown",
      "metadata": {
        "id": "view-in-github",
        "colab_type": "text"
      },
      "source": [
        "<a href=\"https://colab.research.google.com/github/Harshitha-guda/B2_PFDS_1102/blob/main/PFDS_Lab6_11Sep.ipynb\" target=\"_parent\"><img src=\"https://colab.research.google.com/assets/colab-badge.svg\" alt=\"Open In Colab\"/></a>"
      ]
    },
    {
      "cell_type": "markdown",
      "source": [
        "Sales Dataset – Removing Duplicates"
      ],
      "metadata": {
        "id": "VajyLD5zEswo"
      }
    },
    {
      "cell_type": "code",
      "source": [
        " import pandas as pd\n",
        " # Create Sample Sales Dataset with Duplicate Entries\n",
        " data = {\n",
        " 'TransactionID': [1001, 1002, 1003, 1001, 1004, 1002, 1005],\n",
        " 'Product': ['Laptop', 'Mouse', 'Keyboard', 'Laptop', 'Monitor', 'Mouse', 'Headphones'],\n",
        " 'Quantity': [1, 2, 1, 1, 1, 2, 1],\n",
        " 'Price': [1000, 25, 45, 1000, 200, 25, 50],\n",
        " 'Date': ['2025-09-10', '2025-09-10', '2025-09-11', '2025-09-10', '2025-09-12', '2025-09-10', '2025-09-13']\n",
        " }\n",
        " df = pd.DataFrame(data)\n",
        " print(\"Original Dataset:\")\n",
        " print(df)"
      ],
      "metadata": {
        "colab": {
          "base_uri": "https://localhost:8080/"
        },
        "id": "7wpzQw37EuKR",
        "outputId": "3c881d09-7515-4de4-fa37-0b8febb8aa12"
      },
      "execution_count": 1,
      "outputs": [
        {
          "output_type": "stream",
          "name": "stdout",
          "text": [
            "Original Dataset:\n",
            "   TransactionID     Product  Quantity  Price        Date\n",
            "0           1001      Laptop         1   1000  2025-09-10\n",
            "1           1002       Mouse         2     25  2025-09-10\n",
            "2           1003    Keyboard         1     45  2025-09-11\n",
            "3           1001      Laptop         1   1000  2025-09-10\n",
            "4           1004     Monitor         1    200  2025-09-12\n",
            "5           1002       Mouse         2     25  2025-09-10\n",
            "6           1005  Headphones         1     50  2025-09-13\n"
          ]
        }
      ]
    },
    {
      "cell_type": "code",
      "source": [
        " # Identify Duplicates\n",
        " duplicate_count_before = df.duplicated().sum()\n",
        " print(f\"\\n Duplicate records before cleaning: {duplicate_count_before}\")"
      ],
      "metadata": {
        "colab": {
          "base_uri": "https://localhost:8080/"
        },
        "id": "v6HQBv-DEzCc",
        "outputId": "999cfd6a-f111-4f29-9ade-4030e92402e6"
      },
      "execution_count": 2,
      "outputs": [
        {
          "output_type": "stream",
          "name": "stdout",
          "text": [
            "\n",
            " Duplicate records before cleaning: 2\n"
          ]
        }
      ]
    },
    {
      "cell_type": "code",
      "source": [
        " # Remove Duplicates\n",
        " df_cleaned = df.drop_duplicates()\n",
        " duplicate_count_after = df_cleaned.duplicated().sum()\n",
        " print(f\" Duplicate records after cleaning: {duplicate_count_after}\")"
      ],
      "metadata": {
        "colab": {
          "base_uri": "https://localhost:8080/"
        },
        "id": "DWPEBeDgE6cP",
        "outputId": "c8ecf7d1-4ecc-495c-eee1-2d4ba0871dd1"
      },
      "execution_count": 3,
      "outputs": [
        {
          "output_type": "stream",
          "name": "stdout",
          "text": [
            " Duplicate records after cleaning: 0\n"
          ]
        }
      ]
    },
    {
      "cell_type": "code",
      "source": [
        " # Final Cleaned Dataset\n",
        " print(\"\\nCleaned Dataset:\")\n",
        " print(df_cleaned)\n",
        " # Save to CSV (Optional)\n",
        " df_cleaned.to_csv('cleaned_sales_dataset.csv', index=False)"
      ],
      "metadata": {
        "colab": {
          "base_uri": "https://localhost:8080/"
        },
        "id": "TIQ_-5sGE754",
        "outputId": "faa22a3b-c96a-473f-8002-2bc2f84a649e"
      },
      "execution_count": 4,
      "outputs": [
        {
          "output_type": "stream",
          "name": "stdout",
          "text": [
            "\n",
            "Cleaned Dataset:\n",
            "   TransactionID     Product  Quantity  Price        Date\n",
            "0           1001      Laptop         1   1000  2025-09-10\n",
            "1           1002       Mouse         2     25  2025-09-10\n",
            "2           1003    Keyboard         1     45  2025-09-11\n",
            "4           1004     Monitor         1    200  2025-09-12\n",
            "6           1005  Headphones         1     50  2025-09-13\n"
          ]
        }
      ]
    },
    {
      "cell_type": "markdown",
      "source": [
        "Employee Dataset – Converting Data Types"
      ],
      "metadata": {
        "id": "xiKzZItNFB76"
      }
    },
    {
      "cell_type": "code",
      "source": [
        "import pandas as pd\n",
        "# Create dataset with Salary stored as string.\n",
        "data = {\n",
        "    'EmployeeID': [101, 102, 103, 104],\n",
        "    'Name': ['Alice', 'Bob', 'Charlie', 'Diana'],\n",
        "    'Salary': ['50000', '60000', '55000', '70000'],\n",
        "    'Joining_Date': ['2021-01-15', '2020-05-20', '2019-11-10', '2022-07-01']  # Date as string\n",
        "}\n",
        "df = pd.DataFrame(data)\n",
        "print(\" Original Data Types:\")\n",
        "print(df.dtypes)"
      ],
      "metadata": {
        "colab": {
          "base_uri": "https://localhost:8080/"
        },
        "id": "PfpvrYFPFU0p",
        "outputId": "5497480a-a107-4621-cd9e-777f4056d6b9"
      },
      "execution_count": 7,
      "outputs": [
        {
          "output_type": "stream",
          "name": "stdout",
          "text": [
            " Original Data Types:\n",
            "EmployeeID       int64\n",
            "Name            object\n",
            "Salary          object\n",
            "Joining_Date    object\n",
            "dtype: object\n"
          ]
        }
      ]
    },
    {
      "cell_type": "code",
      "source": [
        " # Convert Joining_Date to datetime\n",
        " df['Joining_Date'] = pd.to_datetime(df['Joining_Date'])\n",
        " # Output Corrected Data Types\n",
        " print(\"\\nCorrected Data Types:\")\n",
        " print(df.dtypes)\n",
        " # Display Cleaned Data\n",
        " print(\"\\n Cleaned Employee Dataset:\")\n",
        " print(df)"
      ],
      "metadata": {
        "colab": {
          "base_uri": "https://localhost:8080/"
        },
        "id": "1bCooqdAFvMk",
        "outputId": "eb61dc57-686b-4f24-8328-33295b0c1e6c"
      },
      "execution_count": 9,
      "outputs": [
        {
          "output_type": "stream",
          "name": "stdout",
          "text": [
            "\n",
            "Corrected Data Types:\n",
            "EmployeeID               int64\n",
            "Name                    object\n",
            "Salary                  object\n",
            "Joining_Date    datetime64[ns]\n",
            "dtype: object\n",
            "\n",
            " Cleaned Employee Dataset:\n",
            "   EmployeeID     Name Salary Joining_Date\n",
            "0         101    Alice  50000   2021-01-15\n",
            "1         102      Bob  60000   2020-05-20\n",
            "2         103  Charlie  55000   2019-11-10\n",
            "3         104    Diana  70000   2022-07-01\n"
          ]
        }
      ]
    }
  ]
}